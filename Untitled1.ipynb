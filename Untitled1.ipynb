{
 "cells": [
  {
   "cell_type": "code",
   "execution_count": 1,
   "id": "1834ff4e-3649-4311-bb62-2c1b3f895fbc",
   "metadata": {},
   "outputs": [
    {
     "data": {
      "image/png": "[encoded data removed]",
      "text/plain": [
       "<Figure size 216x216 with 1 Axes>"
      ]
     },
     "metadata": {
      "needs_background": "light"
     },
     "output_type": "display_data"
    }
   ],
   "source": [
    "import pytab as pt\n",
    "data = {\n",
    "\"Linux\": [29, 23, 29, 20, 25, 23, 26],      \n",
    "\"LinuxMi\": [26, 23, 29, 28, 20, 22, 29]}\n",
    "pt.table(data=data, th_type=\"dark\", table_type=\"striped\")\n",
    "pt.show()"
   ]
  },
  {
   "cell_type": "code",
   "execution_count": null,
   "id": "f4b35d61-6a88-42db-b5b0-4883158c7705",
   "metadata": {},
   "outputs": [],
   "source": [
    "from pptx import Presentation\n",
    "from pptx.util import Inches\n",
    "from pptx.enum.shapes import MSO_SHAPE\n",
    "from pptx.util import Inches, Pt \n",
    "from pptx.enum.text import PP_ALIGN\n",
    "from pptx.dml.color import RGBColor\n",
    "\n",
    "import time\n",
    "\n",
    "# 读入已存在的PPT文件\n",
    "ppt = Presentation('./input/NIVEA+VOC月报_202112_jc.pptx')\n",
    "\n",
    "#  第一页幻灯片\n",
    "slide0 = ppt.slides[25]\n",
    "# 获取第一页幻灯片的所有占位符\n",
    "placeholder = slide0.shapes#.placeholders\n",
    "# 在第二个占位符对象中添加新段落\n",
    "new_paragraph = placeholder[5].text_frame.add_paragraph()\n",
    "# 修改表格数据\n",
    "for i in range(len(placeholder)):\n",
    "    if placeholder[i].has_table:\n",
    "        if \"Positive\" in placeholder[i].table.cell(0, 0).text:\n",
    "            R,G,B = 0, 176, 48\n",
    "            P_R,P_G,P_B = 217, 244, 245\n",
    "        if \"Negative\" in placeholder[i].table.cell(0, 0).text:\n",
    "            R,G,B = 237, 69, 87\n",
    "            N_R,N_G,N_B =  250,212,232\n",
    "        for row in range(len(placeholder[i].table.rows)):\n",
    "            for col in range(len(placeholder[i].table.columns)):  \n",
    "                if row == 0: \n",
    "                    placeholder[i].table.cell(row, col).text = \"第一行\"\n",
    "                    placeholder[i].table.cell(row, col).text_frame.paragraphs[0].font.size=Pt(11) \n",
    "                    placeholder[i].table.cell(row, col).text_frame.paragraphs[0].font.name=\"微软雅黑\"\n",
    "                    placeholder[i].table.cell(row, col).text_frame.paragraphs[0].alignment = PP_ALIGN.CENTER  # 居中\n",
    "                    placeholder[i].table.cell(row, col).text_frame.paragraphs[0].font.blod = True\n",
    "                    placeholder[i].table.cell(row, col).text_frame.paragraphs[0].font.color.rgb = RGBColor(R, G, B) \n",
    "                    placeholder[i].table.cell(row, col).fill.solid()  #加粗\n",
    "                    placeholder[i].table.cell(row, col).fill.fore_color.rgb=RGBColor(255, 255, 255)  # 背景颜色\n",
    "                #Write rest of table entries \n",
    "                else: \n",
    "                    placeholder[i].table.cell(row, col).text = \"其他行\"\n",
    "                    placeholder[i].table.cell(row, col).text_frame.paragraphs[0].font.size=Pt(11) \n",
    "                    placeholder[i].table.cell(row, col).text_frame.paragraphs[0].font.name=\"微软雅黑\"\n",
    "                    placeholder[i].table.cell(row, col).text_frame.paragraphs[0].alignment = PP_ALIGN.CENTER  # 居中\n",
    "                    placeholder[i].table.cell(row, col).text_frame.paragraphs[0].font.color.rgb = RGBColor(R, G, B) \n",
    "                    placeholder[i].table.cell(row, col).fill.solid() \n",
    "                    if row%2==1 and R==0:\n",
    "                        placeholder[i].table.cell(row, col).fill.fore_color.rgb=RGBColor(P_R,P_G,P_B) \n",
    "                    elif row%2==1 and R==237:\n",
    "                        placeholder[i].table.cell(row, col).fill.fore_color.rgb=RGBColor(N_R,N_G,N_B) \n",
    "                    else:\n",
    "                        placeholder[i].table.cell(row, col).fill.fore_color.rgb=RGBColor(255,255,255)\n",
    "                        placeholder[i].table.cell(row, col).fill.transparency=200\n",
    "# # 追加新文字\n",
    "# new_paragraph.text = '追加的新文字'\n",
    "# placeholder[4].text  = \"%%file盖覆盖！！！\"\n",
    "ppt.save('./data/test_file_'+time.strftime(\"%Y-%m-%d %H点%M分%S秒\")+'.pptx')"
   ]
  },
  {
   "cell_type": "code",
   "execution_count": 2,
   "id": "48e05238-449e-4e6d-9235-91e2b0decd3a",
   "metadata": {},
   "outputs": [],
   "source": [
    "from pptx import Presentation\n",
    "from pptx.util import Inches\n",
    "from pptx.enum.shapes import MSO_SHAPE\n",
    "from pptx.util import Inches, Pt \n",
    "from pptx.enum.text import PP_ALIGN\n",
    "from pptx.dml.color import RGBColor"
   ]
  },
  {
   "cell_type": "code",
   "execution_count": 3,
   "id": "510765ed-f5bb-43f1-926f-22d9497c8cd2",
   "metadata": {},
   "outputs": [],
   "source": [
    "# 读入已存在的PPT文件\n",
    "prs = Presentation()"
   ]
  },
  {
   "cell_type": "code",
   "execution_count": 4,
   "id": "aeba2d73-0ba1-4a28-887e-bc51348aebd8",
   "metadata": {},
   "outputs": [],
   "source": [
    "slides = prs.slides"
   ]
  },
  {
   "cell_type": "code",
   "execution_count": 6,
   "id": "8db5d901-eb36-46a2-9c7d-494d1d0a3406",
   "metadata": {},
   "outputs": [],
   "source": [
    "for i in slides:\n",
    "    print(i)"
   ]
  },
  {
   "cell_type": "code",
   "execution_count": 21,
   "id": "86eb4a20-a0db-4b09-b1b5-ca507ffd083b",
   "metadata": {},
   "outputs": [],
   "source": [
    "slide = prs.slides.add_slide(prs.slide_layouts[6])"
   ]
  },
  {
   "cell_type": "code",
   "execution_count": 40,
   "id": "9c7803ba-c24f-4941-a38d-9fa71d30a89a",
   "metadata": {},
   "outputs": [],
   "source": [
    "# 添加表格\n",
    "x,y,cx,cy = Inches(2),Inches(2),Inches(15),Inches(2)"
   ]
  },
  {
   "cell_type": "code",
   "execution_count": 14,
   "id": "ec2236d8-045a-4a3e-9c29-f879c03d3c26",
   "metadata": {},
   "outputs": [
    {
     "data": {
      "text/plain": [
       "914400"
      ]
     },
     "execution_count": 14,
     "metadata": {},
     "output_type": "execute_result"
    }
   ],
   "source": [
    "Inches(1)"
   ]
  },
  {
   "cell_type": "code",
   "execution_count": 42,
   "id": "674e91eb-4c42-40d4-95f5-c0aa01bfee24",
   "metadata": {},
   "outputs": [],
   "source": [
    "shape = slide.shapes.add_table(2,16,x,y,cx,cy)#3*3的表格  参数rows,cols,left,top,width,height"
   ]
  },
  {
   "cell_type": "code",
   "execution_count": 24,
   "id": "1245e711-2da6-4967-bdc4-23ff0ef188d3",
   "metadata": {},
   "outputs": [
    {
     "data": {
      "text/plain": [
       "True"
      ]
     },
     "execution_count": 24,
     "metadata": {},
     "output_type": "execute_result"
    }
   ],
   "source": [
    "shape.has_table"
   ]
  },
  {
   "cell_type": "code",
   "execution_count": 43,
   "id": "dddbfcd5-fdbf-4d22-ab0c-a7a765edd02b",
   "metadata": {},
   "outputs": [],
   "source": [
    "table = shape.table"
   ]
  },
  {
   "cell_type": "code",
   "execution_count": 45,
   "id": "0f529a0e-284b-42b9-8773-1bfc1376f69c",
   "metadata": {},
   "outputs": [],
   "source": [
    "# 单元格中添加值\n",
    "# cell = table.\n",
    "# cell.text = 'Apple'\n",
    "R,G,B = 237, 69, 87\n",
    "N_R,N_G,N_B =  250,212,232\n",
    "P_R,P_G,P_B = 217, 244, 245\n",
    "for row in range(len(table.rows)):\n",
    "    for col in range(len(table.columns)):\n",
    "        if row == 0: \n",
    "            table.cell(row, col).text = \"第一行\"\n",
    "            table.cell(row, col).text_frame.paragraphs[0].font.size=Pt(13) \n",
    "            table.cell(row, col).text_frame.paragraphs[0].font.name=\"微软雅黑\"\n",
    "            table.cell(row, col).text_frame.paragraphs[0].alignment = PP_ALIGN.CENTER  # 居中\n",
    "            table.cell(row, col).text_frame.paragraphs[0].font.blod = True #加粗\n",
    "            table.cell(row, col).text_frame.paragraphs[0].font.color.rgb = RGBColor(0,206,209) \n",
    "            table.cell(row, col).fill.solid()  \n",
    "            table.cell(row, col).fill.fore_color.rgb=RGBColor(240,255,255)  # 背景颜色\n",
    "            #Write rest of table entries \n",
    "        else:\n",
    "            table.cell(row, col).text = \"其他行\"\n",
    "            table.cell(row, col).text_frame.paragraphs[0].font.size=Pt(11) \n",
    "            table.cell(row, col).text_frame.paragraphs[0].font.name=\"微软雅黑\"\n",
    "            table.cell(row, col).text_frame.paragraphs[0].alignment = PP_ALIGN.CENTER  # 居中\n",
    "            table.cell(row, col).text_frame.paragraphs[0].font.color.rgb = RGBColor(R, G, B) \n",
    "            table.cell(row, col).fill.solid()\n",
    "            table.cell(row, col).fill.fore_color.rgb=RGBColor(255,255,255)\n",
    "            if col==1:\n",
    "                table.cell(row, col).text_frame.paragraphs[0].font.color.rgb=RGBColor(255,48,48) \n",
    "            elif row%2==1 and R==237:\n",
    "                table.cell(row, col).text_frame.paragraphs[0].font.color.rgb=RGBColor(28,28,28) \n",
    "            else:\n",
    "                \n",
    "                table.cell(row, col).fill.transparency=200       "
   ]
  },
  {
   "cell_type": "code",
   "execution_count": 47,
   "id": "7b4374e7-0f68-48b8-bce4-b26b6100138d",
   "metadata": {},
   "outputs": [],
   "source": [
    "prs.save('test01.pptx')"
   ]
  },
  {
   "cell_type": "code",
   "execution_count": null,
   "id": "5a79ebfd-4c63-462b-9831-7a2667f1f650",
   "metadata": {},
   "outputs": [],
   "source": []
  }
 ],
 "metadata": {
  "kernelspec": {
   "display_name": "Python 3 (ipykernel)",
   "language": "python",
   "name": "python3"
  },
  "language_info": {
   "codemirror_mode": {
    "name": "ipython",
    "version": 3
   },
   "file_extension": ".py",
   "mimetype": "text/x-python",
   "name": "python",
   "nbconvert_exporter": "python",
   "pygments_lexer": "ipython3",
   "version": "3.9.12"
  }
 },
 "nbformat": 4,
 "nbformat_minor": 5
}
